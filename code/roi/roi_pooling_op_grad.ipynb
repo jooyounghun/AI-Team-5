{
 "cells": [
  {
   "cell_type": "code",
   "execution_count": 1,
   "metadata": {},
   "outputs": [
    {
     "name": "stderr",
     "output_type": "stream",
     "text": [
      "/usr/lib/python3.5/importlib/_bootstrap.py:222: RuntimeWarning: numpy.dtype size changed, may indicate binary incompatibility. Expected 96, got 88\n",
      "  return f(*args, **kwds)\n",
      "/usr/lib/python3.5/importlib/_bootstrap.py:222: RuntimeWarning: numpy.dtype size changed, may indicate binary incompatibility. Expected 96, got 88\n",
      "  return f(*args, **kwds)\n",
      "/usr/lib/python3.5/importlib/_bootstrap.py:222: RuntimeWarning: numpy.dtype size changed, may indicate binary incompatibility. Expected 96, got 88\n",
      "  return f(*args, **kwds)\n"
     ]
    }
   ],
   "source": [
    "import tensorflow as tf"
   ]
  },
  {
   "cell_type": "code",
   "execution_count": 2,
   "metadata": {},
   "outputs": [],
   "source": [
    "from tensorflow.python.framework import ops"
   ]
  },
  {
   "cell_type": "code",
   "execution_count": 3,
   "metadata": {},
   "outputs": [
    {
     "ename": "ImportError",
     "evalue": "No module named 'roi_pooling_op'",
     "output_type": "error",
     "traceback": [
      "\u001b[0;31m----------------------------------------\u001b[0m",
      "\u001b[0;31mImportError\u001b[0mTraceback (most recent call last)",
      "\u001b[0;32m<ipython-input-3-05a656baf037>\u001b[0m in \u001b[0;36m<module>\u001b[0;34m()\u001b[0m\n\u001b[0;32m----> 1\u001b[0;31m \u001b[0;32mimport\u001b[0m \u001b[0mroi_pooling_op\u001b[0m\u001b[0;34m\u001b[0m\u001b[0m\n\u001b[0m",
      "\u001b[0;31mImportError\u001b[0m: No module named 'roi_pooling_op'"
     ]
    }
   ],
   "source": [
    "import roi_pooling_op"
   ]
  },
  {
   "cell_type": "code",
   "execution_count": 4,
   "metadata": {},
   "outputs": [],
   "source": [
    "import pdb"
   ]
  },
  {
   "cell_type": "code",
   "execution_count": 5,
   "metadata": {},
   "outputs": [
    {
     "ename": "SyntaxError",
     "evalue": "unexpected EOF while parsing (<ipython-input-5-5de08d72382d>, line 1)",
     "output_type": "error",
     "traceback": [
      "\u001b[0;36m  File \u001b[0;32m\"<ipython-input-5-5de08d72382d>\"\u001b[0;36m, line \u001b[0;32m1\u001b[0m\n\u001b[0;31m    @ops.RegisterShape(\"RoiPool\")\u001b[0m\n\u001b[0m                                 ^\u001b[0m\n\u001b[0;31mSyntaxError\u001b[0m\u001b[0;31m:\u001b[0m unexpected EOF while parsing\n"
     ]
    }
   ],
   "source": [
    "@ops.RegisterShape(\"RoiPool\")"
   ]
  },
  {
   "cell_type": "code",
   "execution_count": 6,
   "metadata": {},
   "outputs": [],
   "source": [
    "def _roi_pool_shape(op):\n",
    "  \"\"\"Shape function for the RoiPool op.\n",
    "  \"\"\"\n",
    "  dims_data = op.inputs[0].get_shape().as_list()\n",
    "  channels = dims_data[3]\n",
    "  dims_rois = op.inputs[1].get_shape().as_list()\n",
    "  num_rois = dims_rois[0]\n",
    "\n",
    "  pooled_height = op.get_attr('pooled_height')\n",
    "  pooled_width = op.get_attr('pooled_width')\n",
    "\n",
    "  output_shape = tf.TensorShape([num_rois, pooled_height, pooled_width, channels])\n",
    "  return [output_shape, output_shape]\n",
    "\n",
    "@ops.RegisterGradient(\"RoiPool\")\n",
    "def _roi_pool_grad(op, grad, _):\n",
    "  \"\"\"The gradients for `roi_pool`.\n",
    "  Args:\n",
    "    op: The `roi_pool` `Operation` that we are differentiating, which we can use\n",
    "      to find the inputs and outputs of the original op.\n",
    "    grad: Gradient with respect to the output of the `roi_pool` op.\n",
    "  Returns:\n",
    "    Gradients with respect to the input of `zero_out`.\n",
    "  \"\"\"\n",
    "  data = op.inputs[0]\n",
    "  rois = op.inputs[1]\n",
    "  argmax = op.outputs[1]\n",
    "  pooled_height = op.get_attr('pooled_height')\n",
    "  pooled_width = op.get_attr('pooled_width')\n",
    "  spatial_scale = op.get_attr('spatial_scale')\n",
    "\n",
    "  # compute gradient\n",
    "  data_grad = roi_pooling_op.roi_pool_grad(data, rois, argmax, grad, pooled_height, pooled_width, spatial_scale)\n",
    "\n",
    "  return [data_grad, None]  # List of one Tensor, since we have one input\n"
   ]
  },
  {
   "cell_type": "code",
   "execution_count": null,
   "metadata": {},
   "outputs": [],
   "source": []
  },
  {
   "cell_type": "code",
   "execution_count": null,
   "metadata": {},
   "outputs": [],
   "source": []
  },
  {
   "cell_type": "code",
   "execution_count": null,
   "metadata": {},
   "outputs": [],
   "source": []
  },
  {
   "cell_type": "code",
   "execution_count": null,
   "metadata": {},
   "outputs": [],
   "source": []
  }
 ],
 "metadata": {
  "kernelspec": {
   "display_name": "Python 3",
   "language": "python",
   "name": "python3"
  },
  "language_info": {
   "codemirror_mode": {
    "name": "ipython",
    "version": 3
   },
   "file_extension": ".py",
   "mimetype": "text/x-python",
   "name": "python",
   "nbconvert_exporter": "python",
   "pygments_lexer": "ipython3",
   "version": "3.5.2"
  }
 },
 "nbformat": 4,
 "nbformat_minor": 2
}
